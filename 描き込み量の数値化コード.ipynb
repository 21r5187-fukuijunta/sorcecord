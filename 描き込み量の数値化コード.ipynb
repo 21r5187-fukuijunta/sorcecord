{
 "cells": [
  {
   "cell_type": "code",
   "execution_count": null,
   "id": "c88aad9e",
   "metadata": {},
   "outputs": [],
   "source": [
    "import cv2\n",
    "import numpy as np\n",
    "import os\n",
    "import pandas as pd\n",
    "\n",
    "# フォルダ内の全画像ファイル名を取得\n",
    "image_files = os.listdir('pokemon_drop')\n",
    "image_files = [f for f in image_files if f.endswith('.png')]\n",
    "\n",
    "# 結果を格納するためのリスト\n",
    "results = []\n",
    "\n",
    "for file in image_files:\n",
    "    # 画像を読み込む\n",
    "    pokemon = cv2.imread(f'pokemon_drop/{file}')\n",
    "    pokemon_img = cv2.cvtColor(pokemon, cv2.COLOR_BGR2RGB)\n",
    "\n",
    "    # 画像のグレースケール化\n",
    "    img_gray = cv2.cvtColor(pokemon, cv2.COLOR_RGB2GRAY)\n",
    "\n",
    "    # 白線部分の膨張\n",
    "    kernel = np.ones((4,4),np.uint8)\n",
    "    dilation = cv2.dilate(img_gray, kernel, iterations=1)\n",
    "\n",
    "    # 膨張させた画像からグレーの画像を引く\n",
    "    diff = cv2.subtract(dilation, img_gray)\n",
    "    negaposi = 255 - diff\n",
    "\n",
    "    # 輪郭内を黒色で塗りつぶし、黒色の画素数値を足す\n",
    "    black_area = np.where(np.array(negaposi).flatten().reshape(-1) < 250, 1, 0).sum()\n",
    "\n",
    "    # 画像全体のピクセル数から白色（または透明）のピクセル数を引く\n",
    "    used_area = pokemon.shape[0] * pokemon.shape[1] - np.sum(pokemon == 255) / 3\n",
    "\n",
    "    # 黒い場所 ÷ 輪郭内の線の部分\n",
    "    poke_entropy = black_area / used_area\n",
    "\n",
    "    # 結果をリストに追加\n",
    "    results.append({'file': file, 'poke_entropy': poke_entropy})\n",
    "\n",
    "# リストをデータフレームに変換\n",
    "df = pd.DataFrame(results)\n",
    "\n",
    "# データフレームを表示\n",
    "print(df)"
   ]
  }
 ],
 "metadata": {
  "kernelspec": {
   "display_name": "Python 3 (ipykernel)",
   "language": "python",
   "name": "python3"
  },
  "language_info": {
   "codemirror_mode": {
    "name": "ipython",
    "version": 3
   },
   "file_extension": ".py",
   "mimetype": "text/x-python",
   "name": "python",
   "nbconvert_exporter": "python",
   "pygments_lexer": "ipython3",
   "version": "3.11.5"
  }
 },
 "nbformat": 4,
 "nbformat_minor": 5
}
