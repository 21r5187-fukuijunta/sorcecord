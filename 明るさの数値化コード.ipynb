{
 "cells": [
  {
   "cell_type": "code",
   "execution_count": null,
   "id": "16263e70",
   "metadata": {},
   "outputs": [],
   "source": [
    "import cv2\n",
    "import numpy as np\n",
    "import matplotlib.pyplot as plt\n",
    "import os\n",
    "import pandas as pd\n",
    "%matplotlib inline\n",
    "\n",
    "# フォルダ内の全画像ファイル名を取得\n",
    "image_files = os.listdir('pokemon_drop')\n",
    "image_files = [f for f in image_files if f.endswith('.png')]\n",
    "\n",
    "# 結果を格納するためのリスト\n",
    "results = []\n",
    "\n",
    "for file in image_files:\n",
    "    # 画像を読み込む\n",
    "    pokemon = cv2.imread(f'pokemon_drop/{file}', cv2.IMREAD_UNCHANGED)\n",
    "\n",
    "    # アルファチャンネルを取得\n",
    "    alpha_channel = pokemon[:,:,3]\n",
    "\n",
    "    # アルファチャンネルを使用して非背景ピクセルを選択\n",
    "    mask = alpha_channel > 0\n",
    "\n",
    "    # RGBチャンネルを取得\n",
    "    pokemon_img = pokemon[:,:,:3]\n",
    "\n",
    "    # BGRをRGBに変換\n",
    "    pokemon_img = cv2.cvtColor(pokemon_img, cv2.COLOR_BGR2RGB)\n",
    "\n",
    "    # グレースケールに変換\n",
    "    img_gray = cv2.cvtColor(pokemon_img, cv2.COLOR_RGB2GRAY)\n",
    "\n",
    "    # 非背景ピクセルの明るさを計算\n",
    "    brightness = np.mean(img_gray[mask])\n",
    "\n",
    "    # 結果をリストに追加\n",
    "    results.append({'file': file, 'brightness': brightness})\n",
    "\n",
    "# リストをデータフレームに変換\n",
    "df = pd.DataFrame(results)\n",
    "\n",
    "# ファイル名でソート\n",
    "df.sort_values('file', inplace=True)\n",
    "\n",
    "# 結果を表示\n",
    "print(df)\n"
   ]
  }
 ],
 "metadata": {
  "kernelspec": {
   "display_name": "Python 3 (ipykernel)",
   "language": "python",
   "name": "python3"
  },
  "language_info": {
   "codemirror_mode": {
    "name": "ipython",
    "version": 3
   },
   "file_extension": ".py",
   "mimetype": "text/x-python",
   "name": "python",
   "nbconvert_exporter": "python",
   "pygments_lexer": "ipython3",
   "version": "3.11.5"
  }
 },
 "nbformat": 4,
 "nbformat_minor": 5
}
